ko = 10  # wavenumber (this is arbitrary since we define the shape size in terms of wavelengths)
lam = 2 * np.pi / ko  # wavelength
domain_width = 4 * np.pi
square_side = domain_width  # make side length of square equal to the domain width, can make it smaller if we wish

refInd = 1.1  # refractive index
n_per_lam = 10  # Pixels per wavelength

h_temp = lam / n_per_lam  # temp pixel dimension

wx = domain_width
wy = domain_width

from solver2d import geometry2d

x, Area, a, M, N, dx, dy = geometry2d(h_temp, wx, wy)

x, Area, a, M, N, dx = geom2d(h_temp, refInd, n_per_lam,)

r, idx, res, P, lambda_ext, lambda_int = shape_size_param(geom, refInd, sizeParam, nPerLam, aspectRatio)


perm = np.ones(M*N)  # permittivities